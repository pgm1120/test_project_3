{
  "cells": [
    {
      "cell_type": "markdown",
      "metadata": {
        "id": "view-in-github",
        "colab_type": "text"
      },
      "source": [
        "<a href=\"https://colab.research.google.com/github/pgm1120/test_project_3/blob/main/lesson_04_operator(%EC%97%B0%EC%82%B0%EC%9E%90).ipynb\" target=\"_parent\"><img src=\"https://colab.research.google.com/assets/colab-badge.svg\" alt=\"Open In Colab\"/></a>"
      ]
    },
    {
      "cell_type": "markdown",
      "metadata": {
        "id": "EdUFrdbbl-wc"
      },
      "source": [
        "### 연산자\n",
        "    - 산술\n",
        "    - 할당\n",
        "    - 비교\n",
        "    - 논리\n",
        "    - 멤버"
      ]
    },
    {
      "cell_type": "markdown",
      "metadata": {
        "id": "Es33FJOIl-wh"
      },
      "source": [
        "#### 산술\n",
        "    +, -, *, /, //, %, **"
      ]
    },
    {
      "cell_type": "code",
      "execution_count": 2,
      "metadata": {
        "id": "Obwwmae4l-wi",
        "colab": {
          "base_uri": "https://localhost:8080/"
        },
        "outputId": "328eb006-63ec-4ae7-f84f-9c1467875e34"
      },
      "outputs": [
        {
          "output_type": "execute_result",
          "data": {
            "text/plain": [
              "6.0"
            ]
          },
          "metadata": {},
          "execution_count": 2
        }
      ],
      "source": [
        "8-4*2/2**2\n"
      ]
    },
    {
      "cell_type": "markdown",
      "metadata": {
        "id": "N9rtuBxCl-wj"
      },
      "source": [
        "#### 할당"
      ]
    },
    {
      "cell_type": "code",
      "execution_count": 4,
      "metadata": {
        "id": "PxJ4rOayl-wj",
        "colab": {
          "base_uri": "https://localhost:8080/"
        },
        "outputId": "274faf9c-05fc-4d5c-bd9f-0e5def9eefd2"
      },
      "outputs": [
        {
          "output_type": "execute_result",
          "data": {
            "text/plain": [
              "121.00000000000003"
            ]
          },
          "metadata": {},
          "execution_count": 4
        }
      ],
      "source": [
        "a=100\n",
        "a*=1.1\n",
        "a*=1.1\n",
        "a"
      ]
    },
    {
      "cell_type": "code",
      "execution_count": 13,
      "metadata": {
        "id": "pGOoz9kUl-wk",
        "colab": {
          "base_uri": "https://localhost:8080/",
          "height": 137
        },
        "outputId": "4abe1730-162e-4bfa-a94f-6b1c851bc568"
      },
      "outputs": [
        {
          "output_type": "error",
          "ename": "SyntaxError",
          "evalue": "ignored",
          "traceback": [
            "\u001b[0;36m  File \u001b[0;32m\"<ipython-input-13-65a2dd38ded2>\"\u001b[0;36m, line \u001b[0;32m2\u001b[0m\n\u001b[0;31m    for i in range(1,11);\u001b[0m\n\u001b[0m                        ^\u001b[0m\n\u001b[0;31mSyntaxError\u001b[0m\u001b[0;31m:\u001b[0m invalid syntax\n"
          ]
        }
      ],
      "source": [
        "a=0\n",
        "for i in range(1,11);\n",
        "a += i\n",
        "print(a)"
      ]
    },
    {
      "cell_type": "markdown",
      "metadata": {
        "id": "WhGoOc1zl-wl"
      },
      "source": [
        "#### 비교\n",
        "    >, <, >=, <=, ==, !=\n",
        "    결과값이 True, False"
      ]
    },
    {
      "cell_type": "code",
      "execution_count": 12,
      "metadata": {
        "id": "c9IvDY9nl-wl",
        "colab": {
          "base_uri": "https://localhost:8080/"
        },
        "outputId": "76109909-ea70-4f89-fea7-104a3ae7e79a"
      },
      "outputs": [
        {
          "output_type": "stream",
          "name": "stdout",
          "text": [
            "True False\n",
            "False\n"
          ]
        }
      ],
      "source": [
        "b = 3\n",
        "c = 3.0\n",
        "\n",
        "print(b== c, b > c)\n",
        "print(b != c)"
      ]
    },
    {
      "cell_type": "markdown",
      "metadata": {
        "id": "7GPG_Goul-wm"
      },
      "source": [
        "#### 논리 \n",
        "    and, or, not\n",
        "    True, False로 나타내는 연산\n",
        "    연산은 앞에서부터 순서대로 진행"
      ]
    },
    {
      "cell_type": "code",
      "execution_count": null,
      "metadata": {
        "id": "n3TPm0PEl-wm"
      },
      "outputs": [],
      "source": [
        "# blank"
      ]
    },
    {
      "cell_type": "markdown",
      "metadata": {
        "id": "KZlXYwOJl-wn"
      },
      "source": [
        "#### 멤버\n",
        "    in, not in\n",
        "    특정 데이터가 있는지 확인할 때 사용"
      ]
    },
    {
      "cell_type": "code",
      "execution_count": null,
      "metadata": {
        "id": "tNj-_A6el-wn"
      },
      "outputs": [],
      "source": [
        "a = ['python']"
      ]
    }
  ],
  "metadata": {
    "kernelspec": {
      "display_name": "Python 3",
      "language": "python",
      "name": "python3"
    },
    "language_info": {
      "codemirror_mode": {
        "name": "ipython",
        "version": 3
      },
      "file_extension": ".py",
      "mimetype": "text/x-python",
      "name": "python",
      "nbconvert_exporter": "python",
      "pygments_lexer": "ipython3",
      "version": "3.8.5"
    },
    "toc": {
      "base_numbering": 1,
      "nav_menu": {},
      "number_sections": true,
      "sideBar": true,
      "skip_h1_title": false,
      "title_cell": "Table of Contents",
      "title_sidebar": "Contents",
      "toc_cell": false,
      "toc_position": {},
      "toc_section_display": true,
      "toc_window_display": false
    },
    "colab": {
      "name": "lesson 04. operator(연산자).ipynb",
      "provenance": [],
      "collapsed_sections": [],
      "include_colab_link": true
    }
  },
  "nbformat": 4,
  "nbformat_minor": 0
}